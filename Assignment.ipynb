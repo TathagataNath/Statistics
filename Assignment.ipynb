{
 "cells": [
  {
   "cell_type": "code",
   "execution_count": 1,
   "metadata": {},
   "outputs": [],
   "source": [
    "import numpy as np\n",
    "import pandas as pd\n",
    "import matplotlib.pyplot as plt\n",
    "import seaborn as sns"
   ]
  },
  {
   "cell_type": "code",
   "execution_count": 2,
   "metadata": {},
   "outputs": [],
   "source": [
    "delivery=pd.read_csv('deliveries.csv')"
   ]
  },
  {
   "cell_type": "code",
   "execution_count": null,
   "metadata": {},
   "outputs": [],
   "source": []
  },
  {
   "cell_type": "code",
   "execution_count": 2,
   "metadata": {},
   "outputs": [
    {
     "name": "stdout",
     "output_type": "stream",
     "text": [
      "Enter Numbers Seperated By Space : 50 20 10 40 30\n",
      "IQR : 30.0\n"
     ]
    }
   ],
   "source": [
    "#QUESTION 1\n",
    "\n",
    "# refference : https://www.dummies.com/education/math/statistics/how-to-calculate-percentiles-in-statistics/\n",
    "\n",
    "def calculate_percentile(numbers,fraction) :\n",
    "    \n",
    "    if fraction<0 or fraction>100 :\n",
    "        return \"PERCENTILE CAN ONLY BE IN RANGE [0,100]\"\n",
    "    \n",
    "    else :\n",
    "        \n",
    "        numbers=sorted(numbers)\n",
    "    \n",
    "        if fraction==0 :\n",
    "            return numbers[0]\n",
    "\n",
    "        elif fraction==100 :\n",
    "            return numbers[-1]\n",
    "\n",
    "        else :\n",
    "            length=len(numbers)\n",
    "            part=(fraction/100)*length\n",
    "            r_part=round(part)\n",
    "            if int(part)!=part :\n",
    "                return numbers[r_part]\n",
    "            else :\n",
    "                return (numbers[r_part-1]+numbers[r_part])/2\n",
    "\n",
    "def read() :\n",
    "    \n",
    "    num=input(\"Enter Numbers Seperated By Space : \")\n",
    "    \n",
    "    numbers=[float(i) for i in num.split()]\n",
    "    \n",
    "    return numbers\n",
    "\n",
    "numbers=read()\n",
    "\n",
    "iqr=calculate_percentile(numbers,75)-calculate_percentile(numbers,25)\n",
    "\n",
    "print(\"IQR :\",iqr)"
   ]
  },
  {
   "cell_type": "code",
   "execution_count": null,
   "metadata": {},
   "outputs": [],
   "source": []
  },
  {
   "cell_type": "code",
   "execution_count": 9,
   "metadata": {},
   "outputs": [
    {
     "data": {
      "text/plain": [
       "(array([ 19.,   4.,  24.,  71., 211., 463., 464., 221.,  45.,   6.]),\n",
       " array([  2. ,  28.1,  54.2,  80.3, 106.4, 132.5, 158.6, 184.7, 210.8,\n",
       "        236.9, 263. ]),\n",
       " <a list of 10 Patch objects>)"
      ]
     },
     "execution_count": 9,
     "metadata": {},
     "output_type": "execute_result"
    },
    {
     "data": {
      "image/png": "[encoded data removed]",
      "text/plain": [
       "<Figure size 432x288 with 1 Axes>"
      ]
     },
     "metadata": {
      "needs_background": "light"
     },
     "output_type": "display_data"
    }
   ],
   "source": [
    "#QUESTION 2\n",
    "\n",
    "required_data=delivery[delivery['total_runs']>0][['match_id','inning','total_runs']]\n",
    "required_values=required_data.groupby(['match_id','inning'])['total_runs'].sum().values\n",
    "plt.hist(required_values)"
   ]
  },
  {
   "cell_type": "code",
   "execution_count": null,
   "metadata": {},
   "outputs": [],
   "source": []
  },
  {
   "cell_type": "code",
   "execution_count": 86,
   "metadata": {},
   "outputs": [
    {
     "name": "stdout",
     "output_type": "stream",
     "text": [
      "bowler\n",
      "DW Steyn            6.226364\n",
      "M Muralitharan      6.239392\n",
      "A Kumble            6.300613\n",
      "SW Tait             6.365714\n",
      "RE van der Merwe    6.408791\n",
      "R Ashwin            6.418049\n",
      "DP Nannes           6.429197\n",
      "GD McGrath          6.439024\n",
      "MA Starc            6.463054\n",
      "SP Narine           6.524249\n",
      "dtype: float64\n",
      "\n",
      "0.34352410583251164\n"
     ]
    },
    {
     "data": {
      "text/plain": [
       "<matplotlib.axes._subplots.AxesSubplot at 0x1c1036cd5f8>"
      ]
     },
     "execution_count": 86,
     "metadata": {},
     "output_type": "execute_result"
    },
    {
     "data": {
      "image/png": "[encoded data removed]",
      "text/plain": [
       "<Figure size 432x288 with 1 Axes>"
      ]
     },
     "metadata": {
      "needs_background": "light"
     },
     "output_type": "display_data"
    }
   ],
   "source": [
    "#QUESTION 3\n",
    "\n",
    "data=delivery[['bowler','noball_runs','batsman_runs']]\n",
    "\n",
    "legal_balls_bowled=data[data['noball_runs']==0].groupby('bowler').size()\n",
    "legal_balls_atleast_300=balls_bowled[balls_bowled>=300]\n",
    "legal_balls_atleast_300_names=balls_atleast_300.index.tolist()\n",
    "\n",
    "required_data=data[data['bowler'].isin(legal_balls_atleast_300_names)]\n",
    "\n",
    "runs_conceeded=required_data.groupby('bowler')['batsman_runs'].sum()\n",
    "overs_bowled=required_data[required_data['noball_runs']==0].groupby('bowler').size()/6\n",
    "\n",
    "economy_rate=runs_conceeded/overs_bowled\n",
    "\n",
    "print(economy_rate.sort_values().head(10))\n",
    "\n",
    "print()\n",
    "print(economy_rate.skew())\n",
    "\n",
    "sns.kdeplot(economy_rate)"
   ]
  },
  {
   "cell_type": "code",
   "execution_count": null,
   "metadata": {},
   "outputs": [],
   "source": []
  },
  {
   "cell_type": "code",
   "execution_count": 119,
   "metadata": {},
   "outputs": [
    {
     "name": "stdout",
     "output_type": "stream",
     "text": [
      "season\n",
      "2008    58\n",
      "2009    57\n",
      "2010    60\n",
      "2011    73\n",
      "2012    74\n",
      "2013    76\n",
      "2014    60\n",
      "2015    59\n",
      "2016    60\n",
      "2017    59\n",
      "2018    60\n",
      "2019    60\n",
      "dtype: int64\n",
      "\n",
      "1.2872286683523246\n"
     ]
    },
    {
     "data": {
      "text/plain": [
       "<matplotlib.axes._subplots.AxesSubplot at 0x1c10e8f24e0>"
      ]
     },
     "execution_count": 119,
     "metadata": {},
     "output_type": "execute_result"
    },
    {
     "data": {
      "image/png": "[encoded data removed]",
      "text/plain": [
       "<Figure size 432x288 with 1 Axes>"
      ]
     },
     "metadata": {
      "needs_background": "light"
     },
     "output_type": "display_data"
    }
   ],
   "source": [
    "#QUESTION 4\n",
    "\n",
    "#positively skewed\n",
    "\n",
    "# No : 1 -> Number of matches played in each season\n",
    "\n",
    "matches=pd.read_csv('matches.csv')\n",
    "\n",
    "merged_data=matches.merge(delivery,left_on='id',right_on='match_id')\n",
    "\n",
    "season_match=merged_data[['season','id']].drop_duplicates('id',keep='first')\n",
    "\n",
    "x=season_match.groupby('season').size()\n",
    "\n",
    "print(x)\n",
    "\n",
    "print()\n",
    "print(x.skew())\n",
    "\n",
    "sns.kdeplot(x)"
   ]
  },
  {
   "cell_type": "code",
   "execution_count": 121,
   "metadata": {},
   "outputs": [
    {
     "name": "stdout",
     "output_type": "stream",
     "text": [
      "KD Karthik        109\n",
      "SK Raina           99\n",
      "MS Dhoni           98\n",
      "AB de Villiers     93\n",
      "RV Uthappa         84\n",
      "RG Sharma          82\n",
      "KA Pollard         76\n",
      "V Kohli            73\n",
      "PA Patel           69\n",
      "S Dhawan           68\n",
      "Name: fielder, dtype: int64\n",
      "\n",
      "3.000777221870206\n"
     ]
    },
    {
     "data": {
      "text/plain": [
       "<matplotlib.axes._subplots.AxesSubplot at 0x1c10f718dd8>"
      ]
     },
     "execution_count": 121,
     "metadata": {},
     "output_type": "execute_result"
    },
    {
     "data": {
      "image/png": "[encoded data removed]",
      "text/plain": [
       "<Figure size 432x288 with 1 Axes>"
      ]
     },
     "metadata": {
      "needs_background": "light"
     },
     "output_type": "display_data"
    }
   ],
   "source": [
    "# No : 2 -> Number of catches taken by each fielder\n",
    "\n",
    "catch=delivery[delivery['dismissal_kind']=='caught']['fielder'].value_counts()\n",
    "\n",
    "print(catch.head(10))\n",
    "\n",
    "print()\n",
    "print(catch.skew())\n",
    "\n",
    "sns.kdeplot(catch)"
   ]
  },
  {
   "cell_type": "code",
   "execution_count": 18,
   "metadata": {},
   "outputs": [
    {
     "name": "stdout",
     "output_type": "stream",
     "text": [
      "bowler\n",
      "A Ashish Reddy     18\n",
      "A Chandila         11\n",
      "A Choudhary         5\n",
      "A Flintoff          2\n",
      "A Joseph            6\n",
      "A Kumble           45\n",
      "A Mishra          156\n",
      "A Mithun            7\n",
      "A Nehra           106\n",
      "A Nel               1\n",
      "dtype: int64\n",
      "\n",
      "2.2436583218942268\n",
      "\n",
      "<class 'pandas.core.series.Series'>\n"
     ]
    },
    {
     "data": {
      "image/png": "[encoded data removed]",
      "text/plain": [
       "<Figure size 432x288 with 1 Axes>"
      ]
     },
     "metadata": {
      "needs_background": "light"
     },
     "output_type": "display_data"
    }
   ],
   "source": [
    "# No : 3 -> Wickets taken by each bowler\n",
    "\n",
    "bowlers=delivery[(delivery['player_dismissed'].isnull()==False) & (delivery['dismissal_kind']!='run out')]\n",
    "x=bowlers.groupby('bowler').size()\n",
    "\n",
    "print(x.head(10))\n",
    "\n",
    "print()\n",
    "print(x.skew())\n",
    "\n",
    "sns.kdeplot(x)\n",
    "\n",
    "print()"
   ]
  },
  {
   "cell_type": "code",
   "execution_count": null,
   "metadata": {},
   "outputs": [],
   "source": []
  },
  {
   "cell_type": "code",
   "execution_count": 10,
   "metadata": {},
   "outputs": [
    {
     "data": {
      "text/html": [
       "<div>\n",
       "<style scoped>\n",
       "    .dataframe tbody tr th:only-of-type {\n",
       "        vertical-align: middle;\n",
       "    }\n",
       "\n",
       "    .dataframe tbody tr th {\n",
       "        vertical-align: top;\n",
       "    }\n",
       "\n",
       "    .dataframe thead th {\n",
       "        text-align: right;\n",
       "    }\n",
       "</style>\n",
       "<table border=\"1\" class=\"dataframe\">\n",
       "  <thead>\n",
       "    <tr style=\"text-align: right;\">\n",
       "      <th></th>\n",
       "      <th>PassengerId</th>\n",
       "      <th>Survived</th>\n",
       "      <th>Pclass</th>\n",
       "      <th>Name</th>\n",
       "      <th>Sex</th>\n",
       "      <th>Age</th>\n",
       "      <th>SibSp</th>\n",
       "      <th>Parch</th>\n",
       "      <th>Ticket</th>\n",
       "      <th>Fare</th>\n",
       "      <th>Cabin</th>\n",
       "      <th>Embarked</th>\n",
       "    </tr>\n",
       "  </thead>\n",
       "  <tbody>\n",
       "    <tr>\n",
       "      <th>0</th>\n",
       "      <td>1</td>\n",
       "      <td>0</td>\n",
       "      <td>3</td>\n",
       "      <td>Braund, Mr. Owen Harris</td>\n",
       "      <td>male</td>\n",
       "      <td>22.0</td>\n",
       "      <td>1</td>\n",
       "      <td>0</td>\n",
       "      <td>A/5 21171</td>\n",
       "      <td>7.2500</td>\n",
       "      <td>NaN</td>\n",
       "      <td>S</td>\n",
       "    </tr>\n",
       "    <tr>\n",
       "      <th>1</th>\n",
       "      <td>2</td>\n",
       "      <td>1</td>\n",
       "      <td>1</td>\n",
       "      <td>Cumings, Mrs. John Bradley (Florence Briggs Th...</td>\n",
       "      <td>female</td>\n",
       "      <td>38.0</td>\n",
       "      <td>1</td>\n",
       "      <td>0</td>\n",
       "      <td>PC 17599</td>\n",
       "      <td>71.2833</td>\n",
       "      <td>C85</td>\n",
       "      <td>C</td>\n",
       "    </tr>\n",
       "    <tr>\n",
       "      <th>2</th>\n",
       "      <td>3</td>\n",
       "      <td>1</td>\n",
       "      <td>3</td>\n",
       "      <td>Heikkinen, Miss. Laina</td>\n",
       "      <td>female</td>\n",
       "      <td>26.0</td>\n",
       "      <td>0</td>\n",
       "      <td>0</td>\n",
       "      <td>STON/O2. 3101282</td>\n",
       "      <td>7.9250</td>\n",
       "      <td>NaN</td>\n",
       "      <td>S</td>\n",
       "    </tr>\n",
       "    <tr>\n",
       "      <th>3</th>\n",
       "      <td>4</td>\n",
       "      <td>1</td>\n",
       "      <td>1</td>\n",
       "      <td>Futrelle, Mrs. Jacques Heath (Lily May Peel)</td>\n",
       "      <td>female</td>\n",
       "      <td>35.0</td>\n",
       "      <td>1</td>\n",
       "      <td>0</td>\n",
       "      <td>113803</td>\n",
       "      <td>53.1000</td>\n",
       "      <td>C123</td>\n",
       "      <td>S</td>\n",
       "    </tr>\n",
       "    <tr>\n",
       "      <th>4</th>\n",
       "      <td>5</td>\n",
       "      <td>0</td>\n",
       "      <td>3</td>\n",
       "      <td>Allen, Mr. William Henry</td>\n",
       "      <td>male</td>\n",
       "      <td>35.0</td>\n",
       "      <td>0</td>\n",
       "      <td>0</td>\n",
       "      <td>373450</td>\n",
       "      <td>8.0500</td>\n",
       "      <td>NaN</td>\n",
       "      <td>S</td>\n",
       "    </tr>\n",
       "  </tbody>\n",
       "</table>\n",
       "</div>"
      ],
      "text/plain": [
       "   PassengerId  Survived  Pclass  \\\n",
       "0            1         0       3   \n",
       "1            2         1       1   \n",
       "2            3         1       3   \n",
       "3            4         1       1   \n",
       "4            5         0       3   \n",
       "\n",
       "                                                Name     Sex   Age  SibSp  \\\n",
       "0                            Braund, Mr. Owen Harris    male  22.0      1   \n",
       "1  Cumings, Mrs. John Bradley (Florence Briggs Th...  female  38.0      1   \n",
       "2                             Heikkinen, Miss. Laina  female  26.0      0   \n",
       "3       Futrelle, Mrs. Jacques Heath (Lily May Peel)  female  35.0      1   \n",
       "4                           Allen, Mr. William Henry    male  35.0      0   \n",
       "\n",
       "   Parch            Ticket     Fare Cabin Embarked  \n",
       "0      0         A/5 21171   7.2500   NaN        S  \n",
       "1      0          PC 17599  71.2833   C85        C  \n",
       "2      0  STON/O2. 3101282   7.9250   NaN        S  \n",
       "3      0            113803  53.1000  C123        S  \n",
       "4      0            373450   8.0500   NaN        S  "
      ]
     },
     "execution_count": 10,
     "metadata": {},
     "output_type": "execute_result"
    }
   ],
   "source": [
    "# Negetively Skewed\n",
    "\n",
    "train=pd.read_csv('train.csv')\n",
    "train.head()"
   ]
  },
  {
   "cell_type": "code",
   "execution_count": 85,
   "metadata": {},
   "outputs": [
    {
     "name": "stdout",
     "output_type": "stream",
     "text": [
      "Pclass\n",
      "1    136\n",
      "2     87\n",
      "3    119\n",
      "Name: Survived, dtype: int64\n",
      "\n",
      "-0.8678266637069509\n"
     ]
    },
    {
     "data": {
      "text/plain": [
       "<matplotlib.axes._subplots.AxesSubplot at 0x192ceff0c88>"
      ]
     },
     "execution_count": 85,
     "metadata": {},
     "output_type": "execute_result"
    },
    {
     "data": {
      "image/png": "[encoded data removed]",
      "text/plain": [
       "<Figure size 432x288 with 1 Axes>"
      ]
     },
     "metadata": {
      "needs_background": "light"
     },
     "output_type": "display_data"
    }
   ],
   "source": [
    "# No : 1 -> Number of passengers survivied from each class\n",
    "\n",
    "x=train[train['Survived']==1]\n",
    "y=x.groupby('Pclass')['Survived'].count()\n",
    "\n",
    "print(y)\n",
    "\n",
    "print()\n",
    "print(y.skew())\n",
    "\n",
    "sns.kdeplot(y)\n"
   ]
  },
  {
   "cell_type": "code",
   "execution_count": 82,
   "metadata": {},
   "outputs": [
    {
     "name": "stdout",
     "output_type": "stream",
     "text": [
      "0    -2\n",
      "1     5\n",
      "2    10\n",
      "Name: Score, dtype: int64\n",
      "\n",
      "-0.4916130499426069\n"
     ]
    },
    {
     "data": {
      "text/plain": [
       "<matplotlib.axes._subplots.AxesSubplot at 0x192ceeb9da0>"
      ]
     },
     "execution_count": 82,
     "metadata": {},
     "output_type": "execute_result"
    },
    {
     "data": {
      "image/png": "[encoded data removed]",
      "text/plain": [
       "<Figure size 432x288 with 1 Axes>"
      ]
     },
     "metadata": {
      "needs_background": "light"
     },
     "output_type": "display_data"
    }
   ],
   "source": [
    "# No : 2 -> Name and Score\n",
    "\n",
    "x=[['Ram',-2],['Shyam',5],['Tom',10]]\n",
    "\n",
    "y=pd.DataFrame(x,columns=['Name','Score'])['Score']\n",
    "\n",
    "print(y)\n",
    "\n",
    "print()\n",
    "print(y.skew())\n",
    "\n",
    "sns.kdeplot(y)"
   ]
  },
  {
   "cell_type": "code",
   "execution_count": 129,
   "metadata": {},
   "outputs": [
    {
     "name": "stdout",
     "output_type": "stream",
     "text": [
      "0    -50\n",
      "1    100\n",
      "2    200\n",
      "Name: Number Chosen, dtype: int64\n",
      "\n",
      "-0.5855827262813871\n"
     ]
    },
    {
     "data": {
      "text/plain": [
       "<matplotlib.axes._subplots.AxesSubplot at 0x192cf23fbe0>"
      ]
     },
     "execution_count": 129,
     "metadata": {},
     "output_type": "execute_result"
    },
    {
     "data": {
      "image/png": "[encoded data removed]",
      "text/plain": [
       "<Figure size 432x288 with 1 Axes>"
      ]
     },
     "metadata": {
      "needs_background": "light"
     },
     "output_type": "display_data"
    }
   ],
   "source": [
    "#No : 3 -> Name and Number Chosen\n",
    "\n",
    "x=[['Ram',-50],['Shyam',100],['Tom',200]]\n",
    "y=pd.DataFrame(x,columns=['Name','Number Chosen'])['Number Chosen']\n",
    "\n",
    "print(y)\n",
    "\n",
    "print()\n",
    "print(y.skew())\n",
    "\n",
    "sns.kdeplot(y)"
   ]
  },
  {
   "cell_type": "code",
   "execution_count": null,
   "metadata": {},
   "outputs": [],
   "source": []
  }
 ],
 "metadata": {
  "kernelspec": {
   "display_name": "Python 3",
   "language": "python",
   "name": "python3"
  },
  "language_info": {
   "codemirror_mode": {
    "name": "ipython",
    "version": 3
   },
   "file_extension": ".py",
   "mimetype": "text/x-python",
   "name": "python",
   "nbconvert_exporter": "python",
   "pygments_lexer": "ipython3",
   "version": "3.7.3"
  }
 },
 "nbformat": 4,
 "nbformat_minor": 2
}
